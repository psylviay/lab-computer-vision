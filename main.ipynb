{
 "cells": [
  {
   "cell_type": "markdown",
   "metadata": {
    "id": "ZaLHjbgl4sdC"
   },
   "source": [
    "# Computer Vision (Image operators and filters)\n",
    "\n",
    "By the end of this lab, you will get hands on experience working with:\n",
    "\n",
    "*   Image Handling\n",
    "*   Image Manipulation\n",
    "*   Histogram and Histogram Equalization\n",
    "*   Basic filtering techniques\n",
    "\n",
    "<!-- ### **Remember this is a graded exercise.** -->\n",
    "\n",
    "**Reminder**:\n",
    "\n",
    "*   For every plot, make sure you provide appropriate titles, axis labels, legends, wherever applicable.\n",
    "*   Add sufficient comments and explanations wherever necessary.\n",
    "\n",
    "---\n"
   ]
  },
  {
   "cell_type": "code",
   "execution_count": null,
   "metadata": {
    "id": "BuqI1scQ4imT"
   },
   "outputs": [],
   "source": [
    "# Imports the necessary libraries\n",
    "\n",
    "import numpy as np\n",
    "from matplotlib import pyplot as plt\n",
    "from skimage import data, exposure, filters, io, morphology "
   ]
  },
  {
   "attachments": {},
   "cell_type": "markdown",
   "metadata": {
    "id": "OV5XxAg85xJ_"
   },
   "source": [
    "# Channels and color spaces\n",
    "\n",
    "### **Exercise: Image Creation and Color Manipulation**\n",
    "\n",
    "*   Create a 100 x 100 image for each of the below visualization\n",
    "\n",
    "\n",
    "*   Visualize the created images in a 1 x 3 subplot using matplotlib.\n"
   ]
  },
  {
   "cell_type": "code",
   "execution_count": null,
   "metadata": {
    "id": "SvftuOlr5woU"
   },
   "outputs": [],
   "source": [
    "# Creates the images\n",
    "image1 = np.zeros((100, 100, 3), dtype=np.uint8)  # Black image\n",
    "image2 = np.ones((100, 100, 3), dtype=np.uint8) * 255  # White image\n",
    "image3 = np.zeros((100, 100, 3), dtype=np.uint8)  # Gradient image\n",
    "for i in range(100):\n",
    "    image3[:, i] = [i * 255 // 100, i * 255 // 100, 255]  # Gradient from blue to cyan\n",
    "\n",
    "# Plots the images in a 1 x 3 subplot\n",
    "fig, axes = plt.subplots(1, 3, figsize=(12, 4))\n",
    "axes[0].imshow(image1)\n",
    "axes[0].axis('off')\n",
    "axes[0].set_title('Black Image')\n",
    "\n",
    "axes[1].imshow(image2)\n",
    "axes[1].axis('off')\n",
    "axes[1].set_title('White Image')\n",
    "\n",
    "axes[2].imshow(image3)\n",
    "axes[2].axis('off')\n",
    "axes[2].set_title('Gradient Image')\n",
    "\n",
    "plt.tight_layout()\n",
    "plt.show()"
   ]
  },
  {
   "attachments": {},
   "cell_type": "markdown",
   "metadata": {
    "id": "kJ52BL-WrWV-"
   },
   "source": [
    "*   Use the above three images to create the following image\n",
    "\n",
    "*Hint: Remember channels and color spaces*"
   ]
  },
  {
   "cell_type": "code",
   "execution_count": null,
   "metadata": {
    "id": "VjFNuJ4Rraiw"
   },
   "outputs": [],
   "source": [
    "import numpy as np\n",
    "import matplotlib.pyplot as plt\n",
    "\n",
    "# Creates the images\n",
    "image1 = np.zeros((100, 100, 3), dtype=np.uint8)  # Black image\n",
    "image2 = np.ones((100, 100, 3), dtype=np.uint8) * 255  # White image\n",
    "image3 = np.zeros((100, 100, 3), dtype=np.uint8)  # Gradient image\n",
    "for i in range(100):\n",
    "    image3[:, i] = [i * 255 // 100, i * 255 // 100, 255]  # Gradient from blue to cyan\n",
    "\n",
    "# Creates a new image using the channels of the above images\n",
    "combined_image = np.zeros((100, 100, 3), dtype=np.uint8)\n",
    "combined_image[..., 0] = image1[..., 0]  # Red channel from image1\n",
    "combined_image[..., 1] = image2[..., 1]  # Green channel from image2\n",
    "combined_image[..., 2] = image3[..., 2]  # Blue channel from image3\n",
    "\n",
    "# Displays the combined image\n",
    "plt.imshow(combined_image)\n",
    "plt.axis('off')\n",
    "plt.title('Combined Image')\n",
    "plt.show()\n"
   ]
  },
  {
   "attachments": {},
   "cell_type": "markdown",
   "metadata": {
    "id": "e3jnTbnqIkN_"
   },
   "source": [
    "### **Exercise: Color Manipulation**\n",
    "\n",
    "*   Read the image 'sillas.jpg' from the images folder\n",
    "\n",
    "\n",
    "*   Extract individual channels and plot them using matplotlib subplot.\n",
    "\n"
   ]
  },
  {
   "cell_type": "code",
   "execution_count": null,
   "metadata": {},
   "outputs": [],
   "source": [
    "from PIL import Image\n",
    "import numpy as np\n",
    "import matplotlib.pyplot as plt\n",
    "\n",
    "# Load the image\n",
    "image_path = \"/Users/sylviaperez-montero/Desktop/lab-computer-vision-main/images/sillas.jpg\"  # Path to the uploaded image\n",
    "image = Image.open(image_path)\n",
    "image_rgb = image.convert(\"RGB\")\n",
    "\n",
    "# Convert the image to a numpy array\n",
    "image_array = np.array(image_rgb)\n",
    "\n",
    "# Define thresholds to detect red color\n",
    "red_threshold = 150  # Adjust as needed to capture different intensities of red\n",
    "green_threshold = 100  # Adjust as needed for green tolerance\n",
    "blue_threshold = 100  # Adjust as needed for blue tolerance\n",
    "\n",
    "# Create a mask for red areas\n",
    "red_mask = (image_array[:, :, 0] > red_threshold) & \\\n",
    "           (image_array[:, :, 1] < green_threshold) & \\\n",
    "           (image_array[:, :, 2] < blue_threshold)\n",
    "\n",
    "# Replace red with blue\n",
    "new_image_array = image_array.copy()\n",
    "new_image_array[red_mask] = [0, 0, 255]  # Change to pure blue\n",
    "\n",
    "# Convert back to an image\n",
    "new_image = Image.fromarray(new_image_array)\n",
    "\n",
    "# Visualize the original and modified images\n",
    "fig, axs = plt.subplots(1, 2, figsize=(12, 6))\n",
    "\n",
    "# Original image\n",
    "axs[0].imshow(image_rgb)\n",
    "axs[0].set_title(\"Original Image\")\n",
    "axs[0].axis(\"off\")\n",
    "\n",
    "# Modified image\n",
    "axs[1].imshow(new_image)\n",
    "axs[1].set_title(\"Red Changed to Blue\")\n",
    "axs[1].axis(\"off\")\n",
    "\n",
    "# Show the plots\n",
    "plt.tight_layout()\n",
    "plt.show()"
   ]
  },
  {
   "cell_type": "code",
   "execution_count": null,
   "metadata": {
    "id": "6T8NHYIAJ7fr"
   },
   "outputs": [],
   "source": [
    "# Extracts individual channels from the sillas image and plots them using matplotlib subplot\n",
    "\n",
    "from PIL import Image\n",
    "import matplotlib.pyplot as plt\n",
    "import numpy as np\n",
    "\n",
    "# Loads the image\n",
    "image_path = \"/Users/sylviaperez-montero/Desktop/lab-computer-vision-main/images/sillas.jpg\"  \n",
    "image = Image.open(image_path)\n",
    "\n",
    "# Converts the image to RGB\n",
    "image_rgb = image.convert(\"RGB\")\n",
    "\n",
    "# Splits the image into RGB channels\n",
    "r, g, b = image_rgb.split()\n",
    "\n",
    "# Converts channels to numpy arrays\n",
    "r_array = np.array(r)\n",
    "g_array = np.array(g)\n",
    "b_array = np.array(b)\n",
    "\n",
    "# Plot the original image and the three channels\n",
    "fig, axs = plt.subplots(1, 4, figsize=(16, 6))\n",
    "\n",
    "# Original image\n",
    "axs[0].imshow(image_rgb)\n",
    "axs[0].set_title(\"Original Image\")\n",
    "axs[0].axis(\"off\")\n",
    "\n",
    "# Red channel\n",
    "axs[1].imshow(r_array, cmap=\"Reds\")\n",
    "axs[1].set_title(\"Red Channel\")\n",
    "axs[1].axis(\"off\")\n",
    "\n",
    "# Green channel\n",
    "axs[2].imshow(g_array, cmap=\"Greens\")\n",
    "axs[2].set_title(\"Green Channel\")\n",
    "axs[2].axis(\"off\")\n",
    "\n",
    "# Blue channel\n",
    "axs[3].imshow(b_array, cmap=\"Blues\")\n",
    "axs[3].set_title(\"Blue Channel\")\n",
    "axs[3].axis(\"off\")\n",
    "\n",
    "# Show the plots\n",
    "plt.tight_layout()\n",
    "plt.show()\n",
    "\n"
   ]
  },
  {
   "cell_type": "markdown",
   "metadata": {
    "id": "v2KsIGB8shvy"
   },
   "source": [
    "*   The color **red** looks too bright for the eyes. Isn't it?? Lets change the color and see how it appears.\n",
    "    *    Create a new image where everything that is **'red' is changed to 'blue'**.\n",
    "*   Visualize the original image and the created image using matplotlib subplot."
   ]
  },
  {
   "cell_type": "code",
   "execution_count": null,
   "metadata": {},
   "outputs": [],
   "source": [
    "# Changes all red in the original photo to blue, applying a Gaussian filter for smoothing\n",
    "\n",
    "# Imports the necessary libraries\n",
    "from PIL import Image\n",
    "import numpy as np\n",
    "import matplotlib.pyplot as plt\n",
    "from scipy.ndimage import gaussian_filter\n",
    "from skimage import feature\n",
    "\n",
    "# Loads the image\n",
    "image_path = \"/Users/sylviaperez-montero/Desktop/lab-computer-vision-main/images/sillas.jpg\"\n",
    "image = Image.open(image_path)\n",
    "image_rgb = image.convert(\"RGB\")\n",
    "\n",
    "# Converts the image to a numpy array\n",
    "image_array = np.array(image_rgb)\n",
    "\n",
    "# Applies Gaussian filter for smoothing\n",
    "sigma = 2.0  # Control smoothing level\n",
    "smoothed_image = gaussian_filter(image_array[..., 0], sigma=sigma)  # Apply to the red channel\n",
    "\n",
    "# Detects edges using Canny on the smoothed red channel\n",
    "edges = feature.canny(smoothed_image, sigma=1.0, low_threshold=50, high_threshold=150)\n",
    "\n",
    "# Refines the red mask with the edge detection\n",
    "red_threshold = 120\n",
    "green_threshold = 100\n",
    "blue_threshold = 100\n",
    "\n",
    "red_mask_refined = edges & (\n",
    "    (image_array[..., 0] > red_threshold) &  # Red above threshold\n",
    "    (image_array[..., 1] < green_threshold) &  # Green below threshold\n",
    "    (image_array[..., 2] < blue_threshold)  # Blue below threshold\n",
    ")\n",
    "\n",
    "# Replaces red with blue based on the refined mask\n",
    "new_image_array_refined = image_array.copy()\n",
    "new_image_array_refined[red_mask_refined] = [0, 0, 255]  # Replace with pure blue\n",
    "\n",
    "# Converts back to an image\n",
    "new_image_refined = Image.fromarray(new_image_array_refined)\n",
    "\n",
    "# Visualizes the original and modified images\n",
    "fig, axs = plt.subplots(1, 2, figsize=(12, 6))\n",
    "\n",
    "# Original image\n",
    "axs[0].imshow(image_rgb)\n",
    "axs[0].set_title(\"Original Image\")\n",
    "axs[0].axis(\"off\")\n",
    "\n",
    "# Modified image\n",
    "axs[1].imshow(new_image_refined)\n",
    "axs[1].set_title(\"Red Changed to Blue (Refined)\")\n",
    "axs[1].axis(\"off\")\n",
    "\n",
    "# Show the plots\n",
    "plt.tight_layout()\n",
    "plt.show()"
   ]
  },
  {
   "attachments": {},
   "cell_type": "markdown",
   "metadata": {
    "id": "I7ILNRvsJ9fm"
   },
   "source": [
    "# Image Manipulation\n",
    "\n",
    "### **Exercise: Image Operators**\n",
    "\n",
    "*   You can find images 'model.png' and 'coat.png' in the images folder (First two images of the below visualization). Your task is to create an image from the given two images such a way that the model is wearing the coat (Third image in the visualization).\n",
    "*   You can also find different textures in the images folder. Your task is to change the coat texture to any one of the given textures.\n",
    "*   Visualize the images similar to the given visualization.\n",
    "\n",
    "*Hint: Think masks!!!*\n"
   ]
  },
  {
   "cell_type": "code",
   "execution_count": null,
   "metadata": {},
   "outputs": [],
   "source": [
    "from PIL import Image, ImageChops\n",
    "import matplotlib.pyplot as plt\n",
    "\n",
    "# Load the model and coat images\n",
    "model_path = \"/Users/sylviaperez-montero/Desktop/lab-computer-vision-main/images//model.png\"\n",
    "coat_path = \"/Users/sylviaperez-montero/Desktop/lab-computer-vision-main/images//coat.png\"\n",
    "texture_path = \"/Users/sylviaperez-montero/Desktop/lab-computer-vision-main/images//texture.png\"\n",
    "\n",
    "model = Image.open(model_path).convert(\"RGBA\")\n",
    "coat = Image.open(coat_path).convert(\"RGBA\")\n",
    "\n",
    "# Create a mask to remove the black background from the coat image\n",
    "coat_mask = coat.split()[3]  # Use the alpha channel as a mask\n",
    "\n",
    "# Blend the coat onto the model using the mask\n",
    "model_with_coat = Image.alpha_composite(model, Image.composite(coat, model, coat_mask))\n",
    "\n",
    "# Load a texture image and apply it to the coat\n",
    "texture = Image.open(texture_path).convert(\"RGBA\")\n",
    "texture_resized = texture.resize(coat.size)\n",
    "\n",
    "# Apply the texture to the coat\n",
    "textured_coat = ImageChops.multiply(coat, texture_resized)\n",
    "\n",
    "# Blend the textured coat onto the model using the same mask\n",
    "model_with_textured_coat = Image.alpha_composite(model, Image.composite(textured_coat, model, coat_mask))\n",
    "\n",
    "# Visualization of the images\n",
    "fig, axs = plt.subplots(1, 3, figsize=(18, 6))\n",
    "\n",
    "# Original Model\n",
    "axs[0].imshow(model)\n",
    "axs[0].set_title(\"Model\")\n",
    "axs[0].axis(\"off\")\n",
    "\n",
    "# Model Wearing Green Coat\n",
    "axs[1].imshow(model_with_coat)\n",
    "axs[1].set_title(\"Model with Green Coat\")\n",
    "axs[1].axis(\"off\")\n",
    "\n",
    "# Model Wearing Textured Coat\n",
    "axs[2].imshow(model_with_textured_coat)\n",
    "axs[2].set_title(\"Model with Textured Coat\")\n",
    "axs[2].axis(\"off\")\n",
    "\n",
    "plt.tight_layout()\n",
    "plt.show()"
   ]
  },
  {
   "cell_type": "code",
   "execution_count": null,
   "metadata": {},
   "outputs": [],
   "source": [
    "# Overlays the coat over the model, and then adds texture over the coat.\n",
    "# The three images are shown side by side.\n",
    "\n",
    "# Imports the necessary libraries\n",
    "from PIL import Image\n",
    "import matplotlib.pyplot as plt\n",
    "\n",
    "# Opens the images (used as the background)\n",
    "background_path = \"/Users/sylviaperez-montero/Desktop/lab-computer-vision-main/images/model.png\"  # Replace with the actual path\n",
    "overlay_path = \"/Users/sylviaperez-montero/Desktop/lab-computer-vision-main/images/coat.png\"       # Replace with the actual path\n",
    "texture_path = \"/Users/sylviaperez-montero/Desktop/lab-computer-vision-main/images/texture2.png\"       # Replace with the actual path\n",
    "\n",
    "img1 = Image.open(background_path).convert(\"RGBA\")  # Ensures the background is in RGBA mode\n",
    "img2 = Image.open(overlay_path).convert(\"RGBA\")     # Ensures the overlay is in RGBA mode\n",
    "img3 = Image.open(texture_path).convert(\"RGBA\")     # Ensures the texture is in RGBA model\n",
    "\n",
    "# Creates a mask to remove the black background from img2 (only keeping the green coat)\n",
    "img2_data = img2.getdata()\n",
    "new_data = []\n",
    "\n",
    "for item in img2_data:\n",
    "    # Checks if the pixel is black \n",
    "    if item[0] < 50 and item[1] < 50 and item[2] < 50:  # Close to black\n",
    "        new_data.append((0, 0, 0, 0))  # Makes the pixel fully transparent\n",
    "    else:\n",
    "        new_data.append(item)  # Keeps the pixel as is\n",
    "\n",
    "# Applies the new transparency data to img2\n",
    "img2.putdata(new_data)\n",
    "\n",
    "# Overlays img2 (green coat) onto img1 (model)\n",
    "combined_image = img1.copy()\n",
    "combined_image.paste(img2, (0, 0), img2)  # Use img2's alpha channel as the mask\n",
    "\n",
    "# Resizes the texture to match the size of img2 (green coat)\n",
    "texture_resized = texture.resize(img2.size)\n",
    "\n",
    "# Applies the texture to the green coat using multiply blend mode\n",
    "textured_coat = ImageChops.multiply(img2, texture_resized)\n",
    "\n",
    "# Overlays the textured coat unto the model\n",
    "combined_image_with_texture = img1.copy()\n",
    "combined_image_with_texture.paste(textured_coat, (0, 0), textured_coat)  # Use the alpha channel as the mask\n",
    "\n",
    "# Visualizes the images: original model, model with green coat, and model with textured coat\n",
    "fig, axs = plt.subplots(1, 3, figsize=(18, 6))\n",
    "\n",
    "# Original model (img1)\n",
    "axs[0].imshow(img1)\n",
    "axs[0].set_title(\"Original Model\")\n",
    "axs[0].axis(\"off\")\n",
    "\n",
    "# Model wearing green coat (img1 + img2)\n",
    "axs[1].imshow(combined_image)\n",
    "axs[1].set_title(\"Model Wearing Green Coat\")\n",
    "axs[1].axis(\"off\")\n",
    "\n",
    "# Model wearing textured coat (img1 + img2 + texture)\n",
    "axs[2].imshow(combined_image_with_texture)\n",
    "axs[2].set_title(\"Model Wearing Textured Coat\")\n",
    "axs[2].axis(\"off\")\n",
    "\n",
    "# Displays the image side by side\n",
    "plt.tight_layout()\n",
    "plt.show()"
   ]
  },
  {
   "cell_type": "markdown",
   "metadata": {
    "id": "aTEmlIhY0w46"
   },
   "source": [
    "# Contrast Enhancement\n",
    "\n",
    "### **Exercise: Histogram Computation**\n",
    "\n",
    "*   Read the **'astronaut' image** from data module.\n",
    "*   Convert the image to grayscale.\n",
    "*   Compute the **histogram of the image.** *Hint: histogram function is available in skimage.exposure package*\n",
    "*   Plot the histogram using matplotlib plot.\n",
    "\n",
    "\n"
   ]
  },
  {
   "cell_type": "code",
   "execution_count": null,
   "metadata": {
    "id": "Pkh-HIjW2SBW"
   },
   "outputs": [],
   "source": [
    "# Reads the astronaut image, converts it to grayscale and computes (and displays) its histogram.\n",
    "\n",
    "# Loads the necessary libraries\n",
    "from skimage import data, color, exposure\n",
    "import matplotlib.pyplot as plt\n",
    "\n",
    "# Reads the 'astronaut' image from the data module\n",
    "image = data.astronaut()\n",
    "\n",
    "# Converts the image to grayscale\n",
    "gray_image = color.rgb2gray(image)\n",
    "\n",
    "# Computes the histogram of the grayscale image\n",
    "hist, bins = exposure.histogram(gray_image)\n",
    "\n",
    "# Plots the histogram using matplotlib\n",
    "plt.figure(figsize=(10, 6))\n",
    "\n",
    "# Plots the histogram\n",
    "plt.plot(bins, hist, lw=2)\n",
    "plt.title(\"Histogram of Grayscale Image\")\n",
    "plt.xlabel(\"Intensity Value\")\n",
    "plt.ylabel(\"Frequency\")\n",
    "plt.grid(True)\n",
    "\n",
    "plt.show()\n"
   ]
  },
  {
   "cell_type": "markdown",
   "metadata": {
    "id": "mIeB6eUYs-lR"
   },
   "source": [
    "*   Change the bin count to 8 and compute the histogram of the image and plot the computed histogram using matplotlib plot."
   ]
  },
  {
   "cell_type": "code",
   "execution_count": null,
   "metadata": {
    "id": "UXxj9_ZptB0_"
   },
   "outputs": [],
   "source": [
    "# Reads the astronaut image, converts it to grayscale and computes (and displays) its histogram.\n",
    "\n",
    "# Loads the necessary libraries\n",
    "from skimage import data, color\n",
    "import matplotlib.pyplot as plt\n",
    "import numpy as np\n",
    "\n",
    "# Reads the 'astronaut' image from the data module\n",
    "image = data.astronaut()\n",
    "\n",
    "# Converts the image to grayscale\n",
    "gray_image = color.rgb2gray(image)\n",
    "\n",
    "# Computes the histogram with 8 bins\n",
    "hist, bins = np.histogram(gray_image, bins=8, range=(0, 1))\n",
    "\n",
    "# Plots the computed histogram\n",
    "plt.figure(figsize=(10, 6))\n",
    "\n",
    "# Computes bin centers for plotting\n",
    "bin_centers = (bins[:-1] + bins[1:]) / 2\n",
    "\n",
    "# Plots the histogram\n",
    "plt.bar(bin_centers, hist, width=(bins[1] - bins[0]), align='center', edgecolor='black', alpha=0.7)\n",
    "plt.title(\"Histogram of Grayscale Image (8 Bins)\")\n",
    "plt.xlabel(\"Intensity Value\")\n",
    "plt.ylabel(\"Frequency\")\n",
    "plt.grid(True)\n",
    "\n",
    "plt.show()\n"
   ]
  },
  {
   "cell_type": "markdown",
   "metadata": {
    "id": "NyBcGEtEJXP_"
   },
   "source": [
    "\n",
    "\n",
    "*   What happens when you change the bin count? Does your inference change based on the bin count? If yes, then how do you define the correct bin count.\n",
    "*   What happens when the bin count is very low and what happens when it is very high?\n",
    "\n"
   ]
  },
  {
   "cell_type": "markdown",
   "metadata": {
    "id": "tw8L1ZKvKOvo"
   },
   "source": [
    "**Solution**\n",
    "\n",
    "Changing the bin count changes how the intensity values are grouped. By changing the bin count to 8, the data is \n",
    "grouped into 8 categories/bars. \n",
    "\n",
    "As the bin increases, the intensity values are grouped into narrower bins, and\n",
    "the histogram is much more detailed. Depending on the images, this could, however, introduce more noise into\n",
    "the histogram.\n"
   ]
  },
  {
   "cell_type": "markdown",
   "metadata": {
    "id": "4ecOWgER2U_n"
   },
   "source": [
    "\n",
    "*   Compute histogram of the color image (without converting it to grayscale).\n",
    "*   Plot the total histogram and also histogram for each channel (show it in a single plot with differnt legends for each histogram).\n"
   ]
  },
  {
   "cell_type": "code",
   "execution_count": null,
   "metadata": {
    "id": "0R425Nve2Til"
   },
   "outputs": [],
   "source": [
    "\n",
    "from skimage import data, exposure\n",
    "import matplotlib.pyplot as plt\n",
    "\n",
    "# Reads the 'astronaut' image from the data module\n",
    "image = data.astronaut()\n",
    "\n",
    "# Computes the histograms for each channel (R, G, B)\n",
    "red_hist, red_bins = exposure.histogram(image[..., 0])  # Red channel\n",
    "green_hist, green_bins = exposure.histogram(image[..., 1])  # Green channel\n",
    "blue_hist, blue_bins = exposure.histogram(image[..., 2])  # Blue channel\n",
    "\n",
    "# Computes the total histogram (sum of all channels)\n",
    "total_hist = red_hist + green_hist + blue_hist\n",
    "\n",
    "# Plots the histograms\n",
    "plt.figure(figsize=(10, 6))\n",
    "\n",
    "# Plots histograms for each channel\n",
    "plt.plot(red_bins, red_hist, color='red', label='Red Channel')\n",
    "plt.plot(green_bins, green_hist, color='green', label='Green Channel')\n",
    "plt.plot(blue_bins, blue_hist, color='blue', label='Blue Channel')\n",
    "\n",
    "# Plots the total histogram\n",
    "plt.plot(red_bins, total_hist, color='black', label='Total Histogram', linestyle='--')\n",
    "\n",
    "# Adds labels, legend, and title\n",
    "plt.title(\"Color Image Histogram (Per Channel and Total)\")\n",
    "plt.xlabel(\"Intensity Value\")\n",
    "plt.ylabel(\"Frequency\")\n",
    "plt.legend()\n",
    "plt.grid(True)\n",
    "\n",
    "plt.show()\n"
   ]
  },
  {
   "cell_type": "markdown",
   "metadata": {
    "id": "vr9af6my4uKv"
   },
   "source": [
    "### **Exercise: Histogram Equalization**\n",
    "\n",
    "*   Read 'aquatermi_lowcontrast.jpg' image from the images folder.\n",
    "*   Compute the histogram of the image.\n",
    "*   Perform histogram equalization of the image to enhance the contrast. *Hint: Use equalize_hist function available in skimage.exposure*\n",
    "*   Also compute histogram of the equalized image.\n",
    "*   Use 2 x 2 subplot to show the original image and the enhanced image along with the corresponding histograms.\n",
    "\n"
   ]
  },
  {
   "cell_type": "code",
   "execution_count": null,
   "metadata": {
    "id": "0ROMuC8F6IYf"
   },
   "outputs": [],
   "source": [
    "# Computes the histogram for the aquatermi_lowcontrast.jpg image, performs equalization\n",
    "# to enhance the contrast, computes the histogram of the equalized image, and uses a \n",
    "# 2x2 subplot to show both images along with their corresponding histograms.\n",
    "\n",
    "# Imports the necessary libraries\n",
    "from skimage import io, exposure, color\n",
    "import matplotlib.pyplot as plt\n",
    "\n",
    "# Loads the low-contrast image\n",
    "image_path = \"/Users/sylviaperez-montero/Desktop/lab-computer-vision-main/images/aquatermi_lowcontrast.jpg\"\n",
    "image = io.imread(image_path)\n",
    "\n",
    "# Converts the image to grayscale\n",
    "gray_image = color.rgb2gray(image)\n",
    "\n",
    "# Computes the histogram of the original image\n",
    "original_hist, original_bins = exposure.histogram(gray_image)\n",
    "\n",
    "# Performs histogram equalization to enhance the contrast\n",
    "equalized_image = exposure.equalize_hist(gray_image)\n",
    "\n",
    "# Computes the histogram of the equalized image\n",
    "equalized_hist, equalized_bins = exposure.histogram(equalized_image)\n",
    "\n",
    "# Plots the original image, equalized image, and their histograms\n",
    "fig, axs = plt.subplots(2, 2, figsize=(12, 8))\n",
    "\n",
    "# Original Image\n",
    "axs[0, 0].imshow(gray_image, cmap='gray')\n",
    "axs[0, 0].set_title(\"Original Image\")\n",
    "axs[0, 0].axis(\"off\")\n",
    "\n",
    "# Histogram of Original Image\n",
    "axs[0, 1].plot(original_bins, original_hist, color='black')\n",
    "axs[0, 1].set_title(\"Histogram of Original Image\")\n",
    "axs[0, 1].set_xlabel(\"Intensity Value\")\n",
    "axs[0, 1].set_ylabel(\"Frequency\")\n",
    "\n",
    "# Equalized Image\n",
    "axs[1, 0].imshow(equalized_image, cmap='gray')\n",
    "axs[1, 0].set_title(\"Equalized Image\")\n",
    "axs[1, 0].axis(\"off\")\n",
    "\n",
    "# Histogram of Equalized Image\n",
    "axs[1, 1].plot(equalized_bins, equalized_hist, color='black')\n",
    "axs[1, 1].set_title(\"Histogram of Equalized Image\")\n",
    "axs[1, 1].set_xlabel(\"Intensity Value\")\n",
    "axs[1, 1].set_ylabel(\"Frequency\")\n",
    "\n",
    "plt.tight_layout()\n",
    "plt.show()\n"
   ]
  },
  {
   "cell_type": "markdown",
   "metadata": {
    "id": "IvDnkRKA8PXe"
   },
   "source": [
    "\n",
    "*   The above function in skimage.exposure uses cdf and interpolation technique to normalize the histogram. How is it different from linear contrast stretch?\n"
   ]
  },
  {
   "cell_type": "markdown",
   "metadata": {
    "id": "JOCa3PzJLhl0"
   },
   "source": [
    "**Solution**\n",
    "\n",
    "# The histogram equalization:\n",
    "\n",
    "- aims to redistribute intensity values, creating a histogram that is almost\n",
    "uniform. \n",
    "- adjusts the intensities in a non-linear fashion, where as linear contrast stretching adjusts them linearly.\n",
    "- histogram equalization improves contrast more effectively in areas with low intensity variation, while linear contrast stretch\n",
    "- preserves the original histogram shape and stretches it.\n",
    "- histogram equalization appears to be useful for images with poor contrast or uneven illumination. Linear contrast stretching is\n",
    "  useful for images wit hclipped intensity ranges or mild contrast issues.\n",
    "..."
   ]
  },
  {
   "cell_type": "markdown",
   "metadata": {
    "id": "boFCTwGV8kaz"
   },
   "source": [
    "### **Exercise: Linear Contrast Stretch**\n",
    "\n",
    "*   Write a function to compute the linear contrast stretch (Do not use an inbuilt function). \n",
    "*   Provide grayscale image array and bin count as parameters to the function and return the enhanced image array.\n",
    "*   Use a 2 x 2 plot to visualize the original image, histogram, enhanced image and the corresponding histogram.\n",
    "\n"
   ]
  },
  {
   "cell_type": "code",
   "execution_count": null,
   "metadata": {
    "id": "l6mlhI_s8lLv"
   },
   "outputs": [],
   "source": [
    "import numpy as np\n",
    "from skimage import io, color, exposure\n",
    "import matplotlib.pyplot as plt\n",
    "\n",
    "# Define a function to perform linear contrast stretching\n",
    "def linear_contrast_stretch(image_array, bin_count):\n",
    "    \"\"\"\n",
    "    Perform linear contrast stretching on a grayscale image.\n",
    "    \n",
    "    Parameters:\n",
    "        image_array (numpy.ndarray): Input grayscale image array.\n",
    "        bin_count (int): Number of bins for the histogram.\n",
    "    \n",
    "    Returns:\n",
    "        numpy.ndarray: Enhanced image array after linear contrast stretching.\n",
    "    \"\"\"\n",
    "    # Calculate the minimum and maximum pixel intensity values\n",
    "    min_intensity = np.min(image_array)\n",
    "    max_intensity = np.max(image_array)\n",
    "    \n",
    "    # Perform linear contrast stretching\n",
    "    enhanced_image = (image_array - min_intensity) / (max_intensity - min_intensity)\n",
    "    \n",
    "    return enhanced_image\n",
    "\n",
    "# Step 1: Load the low-contrast image\n",
    "image_path = \"/Users/sylviaperez-montero/Desktop/lab-computer-vision-main/images/aquatermi_lowcontrast.jpg\"\n",
    "image = io.imread(image_path)\n",
    "\n",
    "# Step 2: Convert the image to grayscale\n",
    "gray_image = color.rgb2gray(image)\n",
    "\n",
    "# Step 3: Apply linear contrast stretching\n",
    "bin_count = 256\n",
    "enhanced_image = linear_contrast_stretch(gray_image, bin_count)\n",
    "\n",
    "# Step 4: Compute histograms for original and enhanced images\n",
    "original_hist, original_bins = exposure.histogram(gray_image, nbins=bin_count)\n",
    "enhanced_hist, enhanced_bins = exposure.histogram(enhanced_image, nbins=bin_count)\n",
    "\n",
    "# Step 5: Plot the original image, histogram, enhanced image, and corresponding histogram\n",
    "fig, axs = plt.subplots(2, 2, figsize=(12, 10))\n",
    "\n",
    "# Original Image\n",
    "axs[0, 0].imshow(gray_image, cmap='gray')\n",
    "axs[0, 0].set_title(\"Original Image\")\n",
    "axs[0, 0].axis(\"off\")\n",
    "\n",
    "# Histogram of Original Image\n",
    "axs[0, 1].plot(original_bins, original_hist, color='black')\n",
    "axs[0, 1].set_title(\"Histogram of Original Image\")\n",
    "axs[0, 1].set_xlabel(\"Intensity Value\")\n",
    "axs[0, 1].set_ylabel(\"Frequency\")\n",
    "\n",
    "# Enhanced Image\n",
    "axs[1, 0].imshow(enhanced_image, cmap='gray')\n",
    "axs[1, 0].set_title(\"Enhanced Image (Linear Contrast Stretch)\")\n",
    "axs[1, 0].axis(\"off\")\n",
    "\n",
    "# Histogram of Enhanced Image\n",
    "axs[1, 1].plot(enhanced_bins, enhanced_hist, color='black')\n",
    "axs[1, 1].set_title(\"Histogram of Enhanced Image\")\n",
    "axs[1, 1].set_xlabel(\"Intensity Value\")\n",
    "axs[1, 1].set_ylabel(\"Frequency\")\n",
    "\n",
    "plt.tight_layout()\n",
    "plt.show()\n"
   ]
  },
  {
   "cell_type": "markdown",
   "metadata": {
    "id": "lfuWqX2BWyXm"
   },
   "source": [
    "# Filters\n",
    "\n",
    "### **Exercise: Mean Filter**\n",
    "\n",
    "*   Load the **coins** image from the data module.\n",
    "*   Define a disk structuring element (selem) of radius 20. *Hint: Structuring elements are defined in the skimage.morphology module*\n",
    "*   Use mean filter using the created selem. *Hint: The mean filter is available in skimage.filters.rank module*\n",
    "*   Increase the radius of the selem by 10 and apply the mean filter.\n",
    "*   Reduce the radius of the selem by 10 and apply the mean filter.\n",
    "*   Visualize all the smoothened images along with the original image.\n",
    "\n",
    "\n"
   ]
  },
  {
   "cell_type": "code",
   "execution_count": null,
   "metadata": {
    "id": "qp7_zxDjL7vS"
   },
   "outputs": [],
   "source": [
    "# Imports the necessary libraries\n",
    "from skimage import data, filters, morphology\n",
    "import matplotlib.pyplot as plt\n",
    "\n",
    "# Loads the coins image\n",
    "coins_image = data.coins()\n",
    "\n",
    "# Defines a disk structuring element (footprint) of radius 20\n",
    "# (note: footprint was used instead of selems due to a type error that was ocurring)\n",
    "footprint_20 = morphology.disk(20)\n",
    "\n",
    "# Applies the mean filter using the created selem\n",
    "mean_filtered_20 = filters.rank.mean(coins_image, footprint=footprint_20)\n",
    "\n",
    "# Increases the radius of the selem by 10 and apply the mean filter\n",
    "footprint_30 = morphology.disk(30)\n",
    "mean_filtered_30 = filters.rank.mean(coins_image, footprint=footprint_30)\n",
    "\n",
    "# Reduces the radius of the selem by 10 and apply the mean filter\n",
    "footprint_10 = morphology.disk(10)\n",
    "mean_filtered_10 = filters.rank.mean(coins_image, footprint=footprint_10)\n",
    "\n",
    "# Visualizes all the smoothened images along with the original image\n",
    "fig, axs = plt.subplots(2, 2, figsize=(12, 10))\n",
    "\n",
    "# Original Image\n",
    "axs[0, 0].imshow(coins_image, cmap='gray')\n",
    "axs[0, 0].set_title(\"Original Image\")\n",
    "axs[0, 0].axis(\"off\")\n",
    "\n",
    "# Mean Filter with Radius 10\n",
    "axs[0, 1].imshow(mean_filtered_10, cmap='gray')\n",
    "axs[0, 1].set_title(\"Mean Filter (Radius 10)\")\n",
    "axs[0, 1].axis(\"off\")\n",
    "\n",
    "# Mean Filter with Radius 20\n",
    "axs[1, 0].imshow(mean_filtered_20, cmap='gray')\n",
    "axs[1, 0].set_title(\"Mean Filter (Radius 20)\")\n",
    "axs[1, 0].axis(\"off\")\n",
    "\n",
    "# Mean Filter with Radius 30\n",
    "axs[1, 1].imshow(mean_filtered_30, cmap='gray')\n",
    "axs[1, 1].set_title(\"Mean Filter (Radius 30)\")\n",
    "axs[1, 1].axis(\"off\")\n",
    "\n",
    "plt.tight_layout()\n",
    "plt.show()\n"
   ]
  },
  {
   "cell_type": "markdown",
   "metadata": {
    "id": "7DIOQCcsvEqG"
   },
   "source": [
    "*   Use different selem (square, rectangle, star, diamond) to view the behaviour of the mean filter (It is not necessary to repeat with different sizes; it is sufficient to show the one with optimal parameter).\n",
    "*   Create a 2 x n subplot to show the selem in the first row and the corresponding smoothened image in the second row."
   ]
  },
  {
   "cell_type": "code",
   "execution_count": null,
   "metadata": {
    "id": "3GbQXmYvvXUO"
   },
   "outputs": [],
   "source": [
    "# Import the necessary libraries\n",
    "from skimage import data, filters, morphology\n",
    "import matplotlib.pyplot as plt\n",
    "\n",
    "# Loads the coins image from the data module\n",
    "coins_image = data.coins()\n",
    "\n",
    "# Defines different footprints\n",
    "square_footprint = morphology.square(15)  # Square footprint\n",
    "rectangle_footprint = morphology.rectangle(10, 20)  # Rectangle footprint\n",
    "star_footprint = morphology.star(10)  # Star footprint\n",
    "diamond_footprint = morphology.diamond(10)  # Diamond footprint\n",
    "\n",
    "# Applies the mean filter using each footprint\n",
    "mean_filtered_square = filters.rank.mean(coins_image, footprint=square_footprint)\n",
    "mean_filtered_rectangle = filters.rank.mean(coins_image, footprint=rectangle_footprint)\n",
    "mean_filtered_star = filters.rank.mean(coins_image, footprint=star_footprint)\n",
    "mean_filtered_diamond = filters.rank.mean(coins_image, footprint=diamond_footprint)\n",
    "\n",
    "# Visualizes the footprints and the corresponding smoothened images\n",
    "footprints = [square_footprint, rectangle_footprint, star_footprint, diamond_footprint]\n",
    "filtered_images = [\n",
    "    mean_filtered_square,\n",
    "    mean_filtered_rectangle,\n",
    "    mean_filtered_star,\n",
    "    mean_filtered_diamond,\n",
    "]\n",
    "titles = [\"Square\", \"Rectangle\", \"Star\", \"Diamond\"]\n",
    "\n",
    "fig, axs = plt.subplots(2, len(footprints), figsize=(15, 8))\n",
    "\n",
    "# Plots footprints in the first row\n",
    "for i, footprint in enumerate(footprints):\n",
    "    axs[0, i].imshow(footprint, cmap=\"gray\")\n",
    "    axs[0, i].set_title(f\"{titles[i]} Footprint\")\n",
    "    axs[0, i].axis(\"off\")\n",
    "\n",
    "# Plots smoothened images in the second row\n",
    "for i, filtered_image in enumerate(filtered_images):\n",
    "    axs[1, i].imshow(filtered_image, cmap=\"gray\")\n",
    "    axs[1, i].set_title(f\"Smoothed with {titles[i]}\")\n",
    "    axs[1, i].axis(\"off\")\n",
    "\n",
    "plt.tight_layout()\n",
    "plt.show()\n"
   ]
  },
  {
   "cell_type": "markdown",
   "metadata": {
    "id": "jV7OHQwKZ9GU"
   },
   "source": [
    "*   How does changing the radius of disk affect the smoothing functionality?"
   ]
  },
  {
   "cell_type": "markdown",
   "metadata": {
    "id": "QG91LBzwMBUR"
   },
   "source": [
    "**Solution**\n",
    "\n",
    "*Changing the radius of the disk*\n",
    "\n",
    "With larger radius, the disk covers a larger \"neighborhood\" of pixels for computing the mean. There is a stronger smoothing effect, and the larger the number, edges and smaller details blur.\n",
    "\n",
    "With smaller radius, the neighborhood is smaller, with less smoothing effect and details preserved better; however, some noise may still remain."
   ]
  },
  {
   "cell_type": "markdown",
   "metadata": {
    "id": "mPJFLYMkMBqs"
   },
   "source": [
    "\n",
    "*   What is the observed behaviour with difference in the structuring element?\n",
    "\n"
   ]
  },
  {
   "cell_type": "markdown",
   "metadata": {
    "id": "hcJkpvnjMFY5"
   },
   "source": [
    "**Solution**\n",
    "\n",
    "*The shape of the structuring element*\n",
    "\n",
    "The shape of the structuring element may impact smoothing significantly, as its shape determines how the pixels are averaged. Noise reduction and edge preservation is also impacted.\n",
    "\n",
    "For instance, in a square structuring element, the pixels are averaged in a square neighborhood and all pixels are treated equally. A diamond shaped element includes pixels closer to the center and with the corners excluded, and so on."
   ]
  },
  {
   "cell_type": "markdown",
   "metadata": {
    "id": "v5hySxTKM4AB"
   },
   "source": [
    "\n",
    "\n",
    "*   What is the difference between mean filter and gaussian filter?\n",
    "*   Where do you use mean filters and where do you use gaussian filters?\n",
    "\n"
   ]
  },
  {
   "cell_type": "markdown",
   "metadata": {
    "id": "w0foSx_GNDB5"
   },
   "source": [
    "**Solution**\n",
    "\n",
    "The mean filter is simple, fast and effective for basic noise reduction. It is used when computational efficiency is important, but the edge details are not. Example: removing salt and pepper noise in a grayscale image.\n",
    "\n",
    "The Gaussian filter provides better noise reduction and less distortion to edges and small details, thus it is preferred when edge preservation or higher quality results are required. Examples: preprocessing for edge detection, object segmentation.\n"
   ]
  }
 ],
 "metadata": {
  "colab": {
   "authorship_tag": "ABX9TyPs+7OmQKl06bCVLggAj4BU",
   "collapsed_sections": [],
   "provenance": []
  },
  "kernelspec": {
   "display_name": "Python 3 (ipykernel)",
   "language": "python",
   "name": "python3"
  },
  "language_info": {
   "codemirror_mode": {
    "name": "ipython",
    "version": 3
   },
   "file_extension": ".py",
   "mimetype": "text/x-python",
   "name": "python",
   "nbconvert_exporter": "python",
   "pygments_lexer": "ipython3",
   "version": "3.12.2"
  }
 },
 "nbformat": 4,
 "nbformat_minor": 4
}
